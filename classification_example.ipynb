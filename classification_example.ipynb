{
 "cells": [
  {
   "cell_type": "code",
   "execution_count": 1,
   "metadata": {},
   "outputs": [
    {
     "name": "stderr",
     "output_type": "stream",
     "text": [
      "Using TensorFlow backend.\n"
     ]
    }
   ],
   "source": [
    "# Author: Marco Lugo\n",
    "# Simple classification model to distinguish between the different shapes (rectangles vs circles)\n",
    "# Data has 1800 128x128x3 images, with 20% of the data used for validation\n",
    "# Achieves ~99.70% after 15 epochs\n",
    "\n",
    "import numpy as np\n",
    "\n",
    "import tensorflow as tf\n",
    "import keras\n",
    "from keras.preprocessing.image import ImageDataGenerator\n",
    "from keras.layers.convolutional import Conv2D\n",
    "from keras.layers.pooling import MaxPooling2D, GlobalMaxPooling2D\n",
    "from keras.models import Model\n",
    "from keras.layers import Input\n",
    "from keras.layers.core import Dropout, Flatten, Dense\n",
    "from keras.optimizers import Adam\n",
    "\n",
    "img_size = 128\n",
    "nb_epochs = 15"
   ]
  },
  {
   "cell_type": "code",
   "execution_count": 2,
   "metadata": {},
   "outputs": [
    {
     "name": "stdout",
     "output_type": "stream",
     "text": [
      "Found 1463 images belonging to 2 classes.\n",
      "Found 337 images belonging to 2 classes.\n"
     ]
    }
   ],
   "source": [
    "train_datagen = ImageDataGenerator(\n",
    "        rescale=1/255,\n",
    "        zoom_range=0.25,\n",
    "        width_shift_range=0.1,\n",
    "        height_shift_range=0.1,\n",
    "        horizontal_flip=True,\n",
    "        vertical_flip=True)\n",
    "\n",
    "test_datagen = ImageDataGenerator(rescale=1/255)\n",
    "\n",
    "train_generator = train_datagen.flow_from_directory(\n",
    "        'input/train/images',\n",
    "        target_size=(img_size, img_size),\n",
    "        batch_size=32,\n",
    "        class_mode='categorical')\n",
    "\n",
    "validation_generator = test_datagen.flow_from_directory(\n",
    "        'input/validation/images',\n",
    "        target_size=(img_size, img_size),\n",
    "        batch_size=32,\n",
    "        class_mode='categorical')"
   ]
  },
  {
   "cell_type": "code",
   "execution_count": 3,
   "metadata": {},
   "outputs": [
    {
     "name": "stdout",
     "output_type": "stream",
     "text": [
      "_________________________________________________________________\n",
      "Layer (type)                 Output Shape              Param #   \n",
      "=================================================================\n",
      "input_1 (InputLayer)         (None, 128, 128, 3)       0         \n",
      "_________________________________________________________________\n",
      "conv2d_1 (Conv2D)            (None, 128, 128, 8)       224       \n",
      "_________________________________________________________________\n",
      "conv2d_2 (Conv2D)            (None, 128, 128, 8)       584       \n",
      "_________________________________________________________________\n",
      "max_pooling2d_1 (MaxPooling2 (None, 64, 64, 8)         0         \n",
      "_________________________________________________________________\n",
      "conv2d_3 (Conv2D)            (None, 64, 64, 16)        1168      \n",
      "_________________________________________________________________\n",
      "conv2d_4 (Conv2D)            (None, 64, 64, 16)        2320      \n",
      "_________________________________________________________________\n",
      "max_pooling2d_2 (MaxPooling2 (None, 32, 32, 16)        0         \n",
      "_________________________________________________________________\n",
      "conv2d_5 (Conv2D)            (None, 32, 32, 32)        4640      \n",
      "_________________________________________________________________\n",
      "conv2d_6 (Conv2D)            (None, 32, 32, 32)        9248      \n",
      "_________________________________________________________________\n",
      "conv2d_7 (Conv2D)            (None, 32, 32, 32)        9248      \n",
      "_________________________________________________________________\n",
      "max_pooling2d_3 (MaxPooling2 (None, 16, 16, 32)        0         \n",
      "_________________________________________________________________\n",
      "global_max_pooling2d_1 (Glob (None, 32)                0         \n",
      "_________________________________________________________________\n",
      "dense_1 (Dense)              (None, 512)               16896     \n",
      "_________________________________________________________________\n",
      "dropout_1 (Dropout)          (None, 512)               0         \n",
      "_________________________________________________________________\n",
      "dense_2 (Dense)              (None, 2)                 1026      \n",
      "=================================================================\n",
      "Total params: 45,354\n",
      "Trainable params: 45,354\n",
      "Non-trainable params: 0\n",
      "_________________________________________________________________\n"
     ]
    }
   ],
   "source": [
    "def build_model(img_size=128):\n",
    "    inputs = Input((img_size, img_size, 3))\n",
    "\n",
    "    x = Conv2D(8, (3, 3), activation='relu', padding='same')(inputs)\n",
    "    x = Conv2D(8, (3, 3), activation='relu', padding='same')(x)\n",
    "    x = MaxPooling2D((2, 2))(x)\n",
    "\n",
    "    x = Conv2D(16, (3, 3), activation='relu', padding='same')(x)\n",
    "    x = Conv2D(16, (3, 3), activation='relu', padding='same')(x)\n",
    "    x = MaxPooling2D((2, 2))(x)\n",
    "\n",
    "    x = Conv2D(32, (3, 3), activation='relu', padding='same')(x)\n",
    "    x = Conv2D(32, (3, 3), activation='relu', padding='same')(x)\n",
    "    x = Conv2D(32, (3, 3), activation='relu', padding='same')(x)\n",
    "    x = MaxPooling2D((2, 2))(x)\n",
    "\n",
    "    x = GlobalMaxPooling2D()(x)\n",
    "    x = Dense(512, activation='relu')(x)\n",
    "    x = Dropout(0.1)(x)\n",
    "    outputs = Dense(2, activation='softmax')(x)\n",
    "\n",
    "    model = Model(inputs=[inputs], outputs=[outputs])\n",
    "    return model\n",
    "\n",
    "model = build_model()\n",
    "model.summary()"
   ]
  },
  {
   "cell_type": "code",
   "execution_count": 4,
   "metadata": {},
   "outputs": [
    {
     "name": "stdout",
     "output_type": "stream",
     "text": [
      "Epoch 1/15\n",
      "46/46 [==============================] - 6s 132ms/step - loss: 0.8650 - acc: 0.4964 - val_loss: 0.6929 - val_acc: 0.5163\n",
      "Epoch 2/15\n",
      "46/46 [==============================] - 5s 109ms/step - loss: 0.6906 - acc: 0.5338 - val_loss: 0.6617 - val_acc: 0.5727\n",
      "Epoch 3/15\n",
      "46/46 [==============================] - 5s 109ms/step - loss: 0.4920 - acc: 0.7554 - val_loss: 0.1394 - val_acc: 0.9436\n",
      "Epoch 4/15\n",
      "46/46 [==============================] - 5s 110ms/step - loss: 0.1692 - acc: 0.9231 - val_loss: 0.0535 - val_acc: 0.9822\n",
      "Epoch 5/15\n",
      "46/46 [==============================] - 5s 109ms/step - loss: 0.1289 - acc: 0.9402 - val_loss: 0.0728 - val_acc: 0.9674\n",
      "Epoch 6/15\n",
      "46/46 [==============================] - 5s 110ms/step - loss: 0.1566 - acc: 0.9284 - val_loss: 0.0422 - val_acc: 0.9852\n",
      "Epoch 7/15\n",
      "46/46 [==============================] - 5s 110ms/step - loss: 0.0720 - acc: 0.9689 - val_loss: 0.0346 - val_acc: 0.9852\n",
      "Epoch 8/15\n",
      "46/46 [==============================] - 5s 112ms/step - loss: 0.0862 - acc: 0.9602 - val_loss: 0.0498 - val_acc: 0.9733\n",
      "Epoch 9/15\n",
      "46/46 [==============================] - 5s 109ms/step - loss: 0.0669 - acc: 0.9687 - val_loss: 0.0159 - val_acc: 0.9941\n",
      "Epoch 10/15\n",
      "46/46 [==============================] - 5s 109ms/step - loss: 0.0662 - acc: 0.9701 - val_loss: 0.0184 - val_acc: 0.9970\n",
      "Epoch 11/15\n",
      "46/46 [==============================] - 5s 110ms/step - loss: 0.0463 - acc: 0.9807 - val_loss: 0.0185 - val_acc: 0.9970\n",
      "Epoch 12/15\n",
      "46/46 [==============================] - 5s 110ms/step - loss: 0.0653 - acc: 0.9760 - val_loss: 0.0213 - val_acc: 0.9941\n",
      "Epoch 13/15\n",
      "46/46 [==============================] - 5s 110ms/step - loss: 0.0738 - acc: 0.9667 - val_loss: 0.0165 - val_acc: 1.0000\n",
      "Epoch 14/15\n",
      "46/46 [==============================] - 5s 110ms/step - loss: 0.0485 - acc: 0.9789 - val_loss: 0.0568 - val_acc: 0.9733\n",
      "Epoch 15/15\n",
      "46/46 [==============================] - 5s 109ms/step - loss: 0.0844 - acc: 0.9640 - val_loss: 0.0104 - val_acc: 0.9970\n"
     ]
    },
    {
     "data": {
      "text/plain": [
       "<keras.callbacks.History at 0x7f336fb5a510>"
      ]
     },
     "execution_count": 4,
     "metadata": {},
     "output_type": "execute_result"
    }
   ],
   "source": [
    "model.compile(loss='categorical_crossentropy', optimizer='adam', metrics=['accuracy'])\n",
    "model.fit_generator(train_generator, validation_data=validation_generator, epochs=nb_epochs, verbose=1)"
   ]
  }
 ],
 "metadata": {
  "kernelspec": {
   "display_name": "Python 2",
   "language": "python",
   "name": "python2"
  },
  "language_info": {
   "codemirror_mode": {
    "name": "ipython",
    "version": 2
   },
   "file_extension": ".py",
   "mimetype": "text/x-python",
   "name": "python",
   "nbconvert_exporter": "python",
   "pygments_lexer": "ipython2",
   "version": "2.7.12"
  }
 },
 "nbformat": 4,
 "nbformat_minor": 2
}
